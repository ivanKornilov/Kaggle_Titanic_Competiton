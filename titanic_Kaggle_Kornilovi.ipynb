{
 "cells": [
  {
   "cell_type": "code",
   "execution_count": 1,
   "id": "7f995e2c",
   "metadata": {},
   "outputs": [],
   "source": [
    "import pandas as pd"
   ]
  },
  {
   "cell_type": "code",
   "execution_count": 2,
   "id": "31f2214d",
   "metadata": {},
   "outputs": [],
   "source": [
    "df = pd.read_csv('train.csv')"
   ]
  },
  {
   "cell_type": "code",
   "execution_count": 12,
   "id": "952f923d",
   "metadata": {},
   "outputs": [
    {
     "data": {
      "text/plain": [
       "PassengerId    891\n",
       "Survived       891\n",
       "Pclass         891\n",
       "Name           891\n",
       "Sex            891\n",
       "Age            891\n",
       "SibSp          891\n",
       "Parch          891\n",
       "Ticket         891\n",
       "Fare           891\n",
       "Cabin          891\n",
       "Embarked       891\n",
       "dtype: int64"
      ]
     },
     "execution_count": 12,
     "metadata": {},
     "output_type": "execute_result"
    }
   ],
   "source": []
  },
  {
   "cell_type": "code",
   "execution_count": 27,
   "id": "78f47a73",
   "metadata": {},
   "outputs": [
    {
     "name": "stdout",
     "output_type": "stream",
     "text": [
      "количество полностью заполненных объектов  891\n",
      "процент полностью заполненных объектов из всей выборки  100.0\n"
     ]
    }
   ],
   "source": [
    "def print_fullycomplete_and_percent(df):\n",
    "    print('количество полностью заполненных объектов ',len(df.dropna()))\n",
    "    print('процент полностью заполненных объектов из всей выборки ',round(len(df.dropna()) / len(df) * 100, 2 ))\n",
    "print_fullycomplete_and_percent(df)"
   ]
  },
  {
   "cell_type": "code",
   "execution_count": 25,
   "id": "97299b23",
   "metadata": {},
   "outputs": [
    {
     "data": {
      "text/plain": [
       "PassengerId    0.0\n",
       "Survived       0.0\n",
       "Pclass         0.0\n",
       "Name           0.0\n",
       "Sex            0.0\n",
       "Age            0.0\n",
       "SibSp          0.0\n",
       "Parch          0.0\n",
       "Ticket         0.0\n",
       "Fare           0.0\n",
       "Embarked       0.0\n",
       "dtype: float64"
      ]
     },
     "execution_count": 25,
     "metadata": {},
     "output_type": "execute_result"
    }
   ],
   "source": [
    "missing_values_percent = ( (df.isna().sum() / len(df))* 100 ).sort_values(ascending=False)\n",
    "missing_values_percent "
   ]
  },
  {
   "cell_type": "code",
   "execution_count": 19,
   "id": "9e7c81d0",
   "metadata": {},
   "outputs": [],
   "source": [
    "df.Embarked = df.Embarked.fillna('S')\n",
    "df = df.drop('Cabin', axis=1)\n",
    "df.Age = df.Age.fillna(df.Age.mean())\n",
    "df['Sex_code'] = df['Sex'].apply(lambda x : 1 if x == 'male' else 0)\n",
    "df = df.drop('Name', axis=1)\n",
    "df = df.drop('Ticket', axis=1)\n",
    "\n",
    "#===MinMax-нормализация данных  Импортируйте MinMaxScaler из sklearn.preprocessing.\n",
    "from sklearn.preprocessing import MinMaxScaler\n",
    "minmax_scaler = MinMaxScaler()\n",
    "minmax_scaler\n",
    "minmax_scaler.fit(df[['Age', 'Fare']])\n",
    "minmax_scaled = minmax_scaler.transform(df[['Age', 'Fare']])\n",
    "minmax_scaled\n",
    "df[['Age_scaled', 'Fare_scaled']] = minmax_scaled\n",
    "df = df.drop('Age', axis=1)\n",
    "df = df.drop('Fare', axis=1)\n",
    "\n",
    "def emb_fun(x):\n",
    "    if x == 'C':\n",
    "        return 0\n",
    "    if x == 'S':\n",
    "        return 1\n",
    "    if x == 'Q':\n",
    "        return 2\n",
    "df['Embark_code'] = df['Embarked'].apply(lambda x : emb_fun(x))\n",
    "df = df.drop('Embarked', axis=1)\n"
   ]
  },
  {
   "cell_type": "code",
   "execution_count": 26,
   "id": "5fd16a94",
   "metadata": {},
   "outputs": [
    {
     "data": {
      "text/plain": [
       "PassengerId    0.0\n",
       "Survived       0.0\n",
       "Pclass         0.0\n",
       "Name           0.0\n",
       "Sex            0.0\n",
       "Age            0.0\n",
       "SibSp          0.0\n",
       "Parch          0.0\n",
       "Ticket         0.0\n",
       "Fare           0.0\n",
       "Embarked       0.0\n",
       "dtype: float64"
      ]
     },
     "execution_count": 26,
     "metadata": {},
     "output_type": "execute_result"
    }
   ],
   "source": [
    "missing_values_percent = ( (df.isna().sum() / len(df))* 100 ).sort_values(ascending=False)\n",
    "missing_values_percent "
   ]
  },
  {
   "cell_type": "code",
   "execution_count": 28,
   "id": "f7c06d6c",
   "metadata": {},
   "outputs": [
    {
     "name": "stdout",
     "output_type": "stream",
     "text": [
      "количество полностью заполненных объектов  891\n",
      "процент полностью заполненных объектов из всей выборки  100.0\n"
     ]
    }
   ],
   "source": [
    "print_fullycomplete_and_percent(df)"
   ]
  },
  {
   "cell_type": "code",
   "execution_count": 65,
   "id": "caf99f87",
   "metadata": {},
   "outputs": [],
   "source": [
    "x = df.drop(['Survived'], axis=1)\n",
    "y = df.Survived"
   ]
  },
  {
   "cell_type": "code",
   "execution_count": 67,
   "id": "3ec52b17",
   "metadata": {},
   "outputs": [
    {
     "data": {
      "text/html": [
       "<div>\n",
       "<style scoped>\n",
       "    .dataframe tbody tr th:only-of-type {\n",
       "        vertical-align: middle;\n",
       "    }\n",
       "\n",
       "    .dataframe tbody tr th {\n",
       "        vertical-align: top;\n",
       "    }\n",
       "\n",
       "    .dataframe thead th {\n",
       "        text-align: right;\n",
       "    }\n",
       "</style>\n",
       "<table border=\"1\" class=\"dataframe\">\n",
       "  <thead>\n",
       "    <tr style=\"text-align: right;\">\n",
       "      <th></th>\n",
       "      <th>PassengerId</th>\n",
       "      <th>Pclass</th>\n",
       "      <th>SibSp</th>\n",
       "      <th>Parch</th>\n",
       "      <th>Sex_code</th>\n",
       "      <th>Age_scaled</th>\n",
       "      <th>Fare_scaled</th>\n",
       "      <th>Embark_code</th>\n",
       "    </tr>\n",
       "  </thead>\n",
       "  <tbody>\n",
       "    <tr>\n",
       "      <th>0</th>\n",
       "      <td>1</td>\n",
       "      <td>3</td>\n",
       "      <td>1</td>\n",
       "      <td>0</td>\n",
       "      <td>1</td>\n",
       "      <td>0.271174</td>\n",
       "      <td>0.014151</td>\n",
       "      <td>1</td>\n",
       "    </tr>\n",
       "    <tr>\n",
       "      <th>1</th>\n",
       "      <td>2</td>\n",
       "      <td>1</td>\n",
       "      <td>1</td>\n",
       "      <td>0</td>\n",
       "      <td>0</td>\n",
       "      <td>0.472229</td>\n",
       "      <td>0.139136</td>\n",
       "      <td>0</td>\n",
       "    </tr>\n",
       "  </tbody>\n",
       "</table>\n",
       "</div>"
      ],
      "text/plain": [
       "   PassengerId  Pclass  SibSp  Parch  Sex_code  Age_scaled  Fare_scaled  \\\n",
       "0            1       3      1      0         1    0.271174     0.014151   \n",
       "1            2       1      1      0         0    0.472229     0.139136   \n",
       "\n",
       "   Embark_code  \n",
       "0            1  \n",
       "1            0  "
      ]
     },
     "execution_count": 67,
     "metadata": {},
     "output_type": "execute_result"
    }
   ],
   "source": [
    "x.head(2)"
   ]
  },
  {
   "cell_type": "code",
   "execution_count": 71,
   "id": "62f13d5c",
   "metadata": {},
   "outputs": [],
   "source": [
    "#=== строим разбиение\n",
    "from sklearn.linear_model import LogisticRegression\n",
    "from sklearn.metrics import accuracy_score, confusion_matrix\n",
    "from sklearn.model_selection import train_test_split \n",
    "train_x, test_x, train_y, test_y = train_test_split(x, y, test_size=0.3, random_state=42)"
   ]
  },
  {
   "cell_type": "code",
   "execution_count": 72,
   "id": "f44960de",
   "metadata": {},
   "outputs": [
    {
     "data": {
      "text/plain": [
       "array([[139,  18],\n",
       "       [ 32,  79]], dtype=int64)"
      ]
     },
     "execution_count": 72,
     "metadata": {},
     "output_type": "execute_result"
    }
   ],
   "source": [
    "logreg = LogisticRegression()\n",
    "train_cols = ['Pclass', 'SibSp', 'Parch', 'Sex_code', 'Age_scaled', 'Fare_scaled', 'Embark_code']\n",
    "logreg.fit(train_x[train_cols], train_y)\n",
    "pred = logreg.predict(test_x[train_cols])"
   ]
  },
  {
   "cell_type": "code",
   "execution_count": 73,
   "id": "ba0828c3",
   "metadata": {},
   "outputs": [
    {
     "data": {
      "text/plain": [
       "0.8134328358208955"
      ]
     },
     "execution_count": 73,
     "metadata": {},
     "output_type": "execute_result"
    }
   ],
   "source": [
    "accuracy_score(test_y, pred)"
   ]
  },
  {
   "cell_type": "code",
   "execution_count": 74,
   "id": "d4392943",
   "metadata": {},
   "outputs": [
    {
     "data": {
      "text/plain": [
       "array([[139,  18],\n",
       "       [ 32,  79]], dtype=int64)"
      ]
     },
     "execution_count": 74,
     "metadata": {},
     "output_type": "execute_result"
    }
   ],
   "source": [
    "confusion_matrix(test_y, pred)"
   ]
  },
  {
   "cell_type": "code",
   "execution_count": 75,
   "id": "0b54da82",
   "metadata": {},
   "outputs": [],
   "source": [
    "x_test = pd.read_csv('test.csv')"
   ]
  },
  {
   "cell_type": "code",
   "execution_count": 82,
   "id": "151152fa",
   "metadata": {},
   "outputs": [],
   "source": [
    "x_test = x_test.drop('Sex', axis=1)"
   ]
  },
  {
   "cell_type": "code",
   "execution_count": 87,
   "id": "2048bde5",
   "metadata": {},
   "outputs": [
    {
     "name": "stdout",
     "output_type": "stream",
     "text": [
      "<class 'pandas.core.frame.DataFrame'>\n",
      "RangeIndex: 418 entries, 0 to 417\n",
      "Data columns (total 8 columns):\n",
      " #   Column       Non-Null Count  Dtype  \n",
      "---  ------       --------------  -----  \n",
      " 0   PassengerId  418 non-null    int64  \n",
      " 1   Pclass       418 non-null    int64  \n",
      " 2   SibSp        418 non-null    int64  \n",
      " 3   Parch        418 non-null    int64  \n",
      " 4   Sex_code     418 non-null    int64  \n",
      " 5   Age_scaled   418 non-null    float64\n",
      " 6   Fare_scaled  417 non-null    float64\n",
      " 7   Embark_code  418 non-null    int64  \n",
      "dtypes: float64(2), int64(6)\n",
      "memory usage: 26.2 KB\n"
     ]
    }
   ],
   "source": [
    "x_test.info()"
   ]
  },
  {
   "cell_type": "code",
   "execution_count": 78,
   "id": "f6100924",
   "metadata": {},
   "outputs": [],
   "source": [
    "x_test.Embarked = x_test.Embarked.fillna('S')\n",
    "x_test = x_test.drop('Cabin', axis=1)\n",
    "x_test.Age = x_test.Age.fillna(x_test.Age.mean())\n",
    "x_test['Sex_code'] = x_test['Sex'].apply(lambda x : 1 if x == 'male' else 0)\n",
    "x_test = x_test.drop('Name', axis=1)\n",
    "x_test = x_test.drop('Ticket', axis=1)\n",
    "x_test = x_test.drop('Sex', axis=1)\n",
    "\n",
    "#===MinMax-нормализация данных  Импортируйте MinMaxScaler из sklearn.preprocessing.\n",
    "from sklearn.preprocessing import MinMaxScaler\n",
    "minmax_scaler = MinMaxScaler()\n",
    "minmax_scaler\n",
    "minmax_scaler.fit(x_test[['Age', 'Fare']])\n",
    "minmax_scaled = minmax_scaler.transform(x_test[['Age', 'Fare']])\n",
    "minmax_scaled\n",
    "x_test[['Age_scaled', 'Fare_scaled']] = minmax_scaled\n",
    "x_test = x_test.drop('Age', axis=1)\n",
    "x_test = x_test.drop('Fare', axis=1)\n",
    "\n",
    "def emb_fun(x):\n",
    "    if x == 'C':\n",
    "        return 0\n",
    "    if x == 'S':\n",
    "        return 1\n",
    "    if x == 'Q':\n",
    "        return 2\n",
    "x_test['Embark_code'] = x_test['Embarked'].apply(lambda x : emb_fun(x))\n",
    "x_test = x_test.drop('Embarked', axis=1)\n",
    "\n",
    "x_test.Fare_scaled = x_test.Fare_scaled.fillna(x_test.Fare_scaled.mean())"
   ]
  },
  {
   "cell_type": "code",
   "execution_count": 92,
   "id": "391b210c",
   "metadata": {},
   "outputs": [],
   "source": [
    "x_test.set_index('PassengerId', inplace=True)"
   ]
  },
  {
   "cell_type": "code",
   "execution_count": 93,
   "id": "0f3de442",
   "metadata": {},
   "outputs": [
    {
     "data": {
      "text/html": [
       "<div>\n",
       "<style scoped>\n",
       "    .dataframe tbody tr th:only-of-type {\n",
       "        vertical-align: middle;\n",
       "    }\n",
       "\n",
       "    .dataframe tbody tr th {\n",
       "        vertical-align: top;\n",
       "    }\n",
       "\n",
       "    .dataframe thead th {\n",
       "        text-align: right;\n",
       "    }\n",
       "</style>\n",
       "<table border=\"1\" class=\"dataframe\">\n",
       "  <thead>\n",
       "    <tr style=\"text-align: right;\">\n",
       "      <th></th>\n",
       "      <th>Pclass</th>\n",
       "      <th>SibSp</th>\n",
       "      <th>Parch</th>\n",
       "      <th>Sex_code</th>\n",
       "      <th>Age_scaled</th>\n",
       "      <th>Fare_scaled</th>\n",
       "      <th>Embark_code</th>\n",
       "    </tr>\n",
       "    <tr>\n",
       "      <th>PassengerId</th>\n",
       "      <th></th>\n",
       "      <th></th>\n",
       "      <th></th>\n",
       "      <th></th>\n",
       "      <th></th>\n",
       "      <th></th>\n",
       "      <th></th>\n",
       "    </tr>\n",
       "  </thead>\n",
       "  <tbody>\n",
       "    <tr>\n",
       "      <th>892</th>\n",
       "      <td>3</td>\n",
       "      <td>0</td>\n",
       "      <td>0</td>\n",
       "      <td>1</td>\n",
       "      <td>0.452723</td>\n",
       "      <td>0.015282</td>\n",
       "      <td>2</td>\n",
       "    </tr>\n",
       "    <tr>\n",
       "      <th>893</th>\n",
       "      <td>3</td>\n",
       "      <td>1</td>\n",
       "      <td>0</td>\n",
       "      <td>0</td>\n",
       "      <td>0.617566</td>\n",
       "      <td>0.013663</td>\n",
       "      <td>1</td>\n",
       "    </tr>\n",
       "    <tr>\n",
       "      <th>894</th>\n",
       "      <td>2</td>\n",
       "      <td>0</td>\n",
       "      <td>0</td>\n",
       "      <td>1</td>\n",
       "      <td>0.815377</td>\n",
       "      <td>0.018909</td>\n",
       "      <td>2</td>\n",
       "    </tr>\n",
       "    <tr>\n",
       "      <th>895</th>\n",
       "      <td>3</td>\n",
       "      <td>0</td>\n",
       "      <td>0</td>\n",
       "      <td>1</td>\n",
       "      <td>0.353818</td>\n",
       "      <td>0.016908</td>\n",
       "      <td>1</td>\n",
       "    </tr>\n",
       "    <tr>\n",
       "      <th>896</th>\n",
       "      <td>3</td>\n",
       "      <td>1</td>\n",
       "      <td>1</td>\n",
       "      <td>0</td>\n",
       "      <td>0.287881</td>\n",
       "      <td>0.023984</td>\n",
       "      <td>1</td>\n",
       "    </tr>\n",
       "    <tr>\n",
       "      <th>...</th>\n",
       "      <td>...</td>\n",
       "      <td>...</td>\n",
       "      <td>...</td>\n",
       "      <td>...</td>\n",
       "      <td>...</td>\n",
       "      <td>...</td>\n",
       "      <td>...</td>\n",
       "    </tr>\n",
       "    <tr>\n",
       "      <th>1305</th>\n",
       "      <td>3</td>\n",
       "      <td>0</td>\n",
       "      <td>0</td>\n",
       "      <td>1</td>\n",
       "      <td>0.396975</td>\n",
       "      <td>0.015713</td>\n",
       "      <td>1</td>\n",
       "    </tr>\n",
       "    <tr>\n",
       "      <th>1306</th>\n",
       "      <td>1</td>\n",
       "      <td>0</td>\n",
       "      <td>0</td>\n",
       "      <td>0</td>\n",
       "      <td>0.512066</td>\n",
       "      <td>0.212559</td>\n",
       "      <td>0</td>\n",
       "    </tr>\n",
       "    <tr>\n",
       "      <th>1307</th>\n",
       "      <td>3</td>\n",
       "      <td>0</td>\n",
       "      <td>0</td>\n",
       "      <td>1</td>\n",
       "      <td>0.505473</td>\n",
       "      <td>0.014151</td>\n",
       "      <td>1</td>\n",
       "    </tr>\n",
       "    <tr>\n",
       "      <th>1308</th>\n",
       "      <td>3</td>\n",
       "      <td>0</td>\n",
       "      <td>0</td>\n",
       "      <td>1</td>\n",
       "      <td>0.396975</td>\n",
       "      <td>0.015713</td>\n",
       "      <td>1</td>\n",
       "    </tr>\n",
       "    <tr>\n",
       "      <th>1309</th>\n",
       "      <td>3</td>\n",
       "      <td>1</td>\n",
       "      <td>1</td>\n",
       "      <td>1</td>\n",
       "      <td>0.396975</td>\n",
       "      <td>0.043640</td>\n",
       "      <td>0</td>\n",
       "    </tr>\n",
       "  </tbody>\n",
       "</table>\n",
       "<p>418 rows × 7 columns</p>\n",
       "</div>"
      ],
      "text/plain": [
       "             Pclass  SibSp  Parch  Sex_code  Age_scaled  Fare_scaled  \\\n",
       "PassengerId                                                            \n",
       "892               3      0      0         1    0.452723     0.015282   \n",
       "893               3      1      0         0    0.617566     0.013663   \n",
       "894               2      0      0         1    0.815377     0.018909   \n",
       "895               3      0      0         1    0.353818     0.016908   \n",
       "896               3      1      1         0    0.287881     0.023984   \n",
       "...             ...    ...    ...       ...         ...          ...   \n",
       "1305              3      0      0         1    0.396975     0.015713   \n",
       "1306              1      0      0         0    0.512066     0.212559   \n",
       "1307              3      0      0         1    0.505473     0.014151   \n",
       "1308              3      0      0         1    0.396975     0.015713   \n",
       "1309              3      1      1         1    0.396975     0.043640   \n",
       "\n",
       "             Embark_code  \n",
       "PassengerId               \n",
       "892                    2  \n",
       "893                    1  \n",
       "894                    2  \n",
       "895                    1  \n",
       "896                    1  \n",
       "...                  ...  \n",
       "1305                   1  \n",
       "1306                   0  \n",
       "1307                   1  \n",
       "1308                   1  \n",
       "1309                   0  \n",
       "\n",
       "[418 rows x 7 columns]"
      ]
     },
     "execution_count": 93,
     "metadata": {},
     "output_type": "execute_result"
    }
   ],
   "source": [
    "x_test"
   ]
  },
  {
   "cell_type": "code",
   "execution_count": 94,
   "id": "630d3a2d",
   "metadata": {},
   "outputs": [],
   "source": [
    "predicted_test = logreg.predict(x_test)"
   ]
  },
  {
   "cell_type": "code",
   "execution_count": 101,
   "id": "1095dad8",
   "metadata": {},
   "outputs": [],
   "source": [
    "x_test['result'] = predicted_test"
   ]
  },
  {
   "cell_type": "code",
   "execution_count": 105,
   "id": "f3faff7d",
   "metadata": {},
   "outputs": [],
   "source": [
    "x_test.to_csv('log_kornilovi.csv')"
   ]
  },
  {
   "cell_type": "code",
   "execution_count": 106,
   "id": "163cb9e5",
   "metadata": {},
   "outputs": [],
   "source": [
    "df2 = pd.read_csv('log_kornilovi.csv')"
   ]
  },
  {
   "cell_type": "code",
   "execution_count": 109,
   "id": "9db9df02",
   "metadata": {},
   "outputs": [],
   "source": [
    "df3 = df2[['PassengerId', 'result']]"
   ]
  },
  {
   "cell_type": "code",
   "execution_count": 111,
   "id": "0e6ad18b",
   "metadata": {},
   "outputs": [],
   "source": [
    "df3.to_csv('log_kornilovi_titanic.csv')"
   ]
  },
  {
   "cell_type": "code",
   "execution_count": null,
   "id": "2c7d6d42",
   "metadata": {},
   "outputs": [],
   "source": []
  }
 ],
 "metadata": {
  "kernelspec": {
   "display_name": "Python 3 (ipykernel)",
   "language": "python",
   "name": "python3"
  },
  "language_info": {
   "codemirror_mode": {
    "name": "ipython",
    "version": 3
   },
   "file_extension": ".py",
   "mimetype": "text/x-python",
   "name": "python",
   "nbconvert_exporter": "python",
   "pygments_lexer": "ipython3",
   "version": "3.8.3"
  }
 },
 "nbformat": 4,
 "nbformat_minor": 5
}
